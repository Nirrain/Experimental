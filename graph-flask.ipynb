{
 "cells": [
  {
   "cell_type": "code",
   "execution_count": 18,
   "metadata": {},
   "outputs": [],
   "source": [
    "from flask import Flask, render_template, request\n",
    "from pyvis.network import Network\n",
    "import os\n",
    "\n",
    "net = Network(height=\"750px\", width=\"100%\", bgcolor=\"#222222\", font_color=\"white\")\n",
    "\n",
    "net.barnes_hut()\n",
    "net.add_node(1, label=\"Node 1\", title=\"title1\")\n",
    "net.add_node(2, label=\"Node 2\")\n",
    "net.add_edge(1, 2)\n",
    "\n",
    "neighbor_map = net.get_adj_list()\n",
    "\n",
    "# for node in net.node_ids:\n",
    "\n",
    "# net.show(\"templates/network.html\")\n"
   ]
  },
  {
   "cell_type": "code",
   "execution_count": 19,
   "metadata": {},
   "outputs": [
    {
     "data": {
      "text/plain": [
       "[{'color': '#97c2fc',\n",
       "  'title': 'sad',\n",
       "  'id': 1,\n",
       "  'label': 'Node 1',\n",
       "  'shape': 'dot',\n",
       "  'font': {'color': 'white'}},\n",
       " {'color': '#97c2fc',\n",
       "  'id': 2,\n",
       "  'label': 'Node 2',\n",
       "  'shape': 'dot',\n",
       "  'font': {'color': 'white'}}]"
      ]
     },
     "execution_count": 19,
     "metadata": {},
     "output_type": "execute_result"
    }
   ],
   "source": [
    "net.nodes"
   ]
  }
 ],
 "metadata": {
  "kernelspec": {
   "display_name": ".venv",
   "language": "python",
   "name": "python3"
  },
  "language_info": {
   "codemirror_mode": {
    "name": "ipython",
    "version": 3
   },
   "file_extension": ".py",
   "mimetype": "text/x-python",
   "name": "python",
   "nbconvert_exporter": "python",
   "pygments_lexer": "ipython3",
   "version": "3.9.0"
  }
 },
 "nbformat": 4,
 "nbformat_minor": 2
}
